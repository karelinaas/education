{
  "nbformat": 4,
  "nbformat_minor": 0,
  "metadata": {
    "colab": {
      "provenance": [],
      "include_colab_link": true
    },
    "kernelspec": {
      "name": "python3",
      "display_name": "Python 3"
    },
    "language_info": {
      "name": "python"
    }
  },
  "cells": [
    {
      "cell_type": "markdown",
      "metadata": {
        "id": "view-in-github",
        "colab_type": "text"
      },
      "source": [
        "<a href=\"https://colab.research.google.com/github/karelinaas/education/blob/main/%D0%9E%D0%B1%D1%83%D1%87%D0%B5%D0%BD%D0%B8%D0%B5_%D0%92%D0%B8%D0%BD%D0%BE%D0%B3%D1%80%D0%B0%D0%B4%D0%BE%D0%B2.ipynb\" target=\"_parent\"><img src=\"https://colab.research.google.com/assets/colab-badge.svg\" alt=\"Open In Colab\"/></a>"
      ]
    },
    {
      "cell_type": "markdown",
      "source": [
        "# Задачки по ООП"
      ],
      "metadata": {
        "id": "rd0lakCcRL28"
      }
    },
    {
      "cell_type": "code",
      "execution_count": null,
      "metadata": {
        "id": "XrbINSTpRFic"
      },
      "outputs": [],
      "source": [
        "\n",
        "class Guy:\n",
        "    def __init__(self, name=None, age=None, salary=None):\n",
        "        self.name = name\n",
        "        self.age = age\n",
        "        self.salary = salary\n",
        "\n",
        "    def __len__(self):\n",
        "        return str(self.salary).count('0')\n",
        "\n",
        "    def __str__(self):\n",
        "        return f\"Name: {self.name}\\nAge: {self.age}\\nSalary: {self.salary}\"\n",
        "\n",
        "    def __setattr__(self, name, value):\n",
        "        if name == \"salary\":\n",
        "            super().__setattr__(name, str(value) + \" $\")\n",
        "        else:\n",
        "            super().__setattr__(name, value)"
      ]
    },
    {
      "cell_type": "code",
      "source": [
        "Mr1 = Guy(\"Andrey\", 20, 1000)\n",
        "Mr2 = Guy()\n",
        "#неправильный вариант, так не делать\n",
        "Mr2.__setattr__(\"salary\", 1000)\n",
        "Mr2.__setattr__(\"name\", \"Misha\")\n",
        "Mr2.__setattr__(\"age\", 19)\n",
        "Mr2.__setattr__(\"age\", 21)\n"
      ],
      "metadata": {
        "id": "cGqlZ523Rwq4"
      },
      "execution_count": null,
      "outputs": []
    },
    {
      "cell_type": "code",
      "source": [
        "print(Mr1)\n",
        "print(Mr2)\n",
        "\n",
        "print(Mr1.__len__())"
      ],
      "metadata": {
        "colab": {
          "base_uri": "https://localhost:8080/"
        },
        "id": "fnocGBvuSU6Z",
        "outputId": "15369205-45d3-4c47-f4b9-b3bd07975b10"
      },
      "execution_count": null,
      "outputs": [
        {
          "output_type": "stream",
          "name": "stdout",
          "text": [
            "Name: Andrey\n",
            "Age: 20\n",
            "Salary: 1000 $\n",
            "Name: Misha\n",
            "Age: 21\n",
            "Salary: 1000 $\n",
            "У него зарплата с 3 нулями\n",
            "\n"
          ]
        }
      ]
    },
    {
      "cell_type": "code",
      "source": [
        "Mr3 = Guy()\n",
        "Mr3.salary = 1000\n",
        "\n",
        "print(Mr3)\n",
        "len(Mr3)"
      ],
      "metadata": {
        "colab": {
          "base_uri": "https://localhost:8080/"
        },
        "id": "CQ7CDkSWmhGb",
        "outputId": "80eac39d-d92d-4b40-ac95-90fcabea1d37"
      },
      "execution_count": null,
      "outputs": [
        {
          "output_type": "stream",
          "name": "stdout",
          "text": [
            "Name: None\n",
            "Age: None\n",
            "Salary: 1000 $\n"
          ]
        },
        {
          "output_type": "execute_result",
          "data": {
            "text/plain": [
              "3"
            ]
          },
          "metadata": {},
          "execution_count": 25
        }
      ]
    },
    {
      "cell_type": "markdown",
      "source": [
        "## Тест окончен, дальше задачки по ООП"
      ],
      "metadata": {
        "id": "MD_BEQL0S4BW"
      }
    },
    {
      "cell_type": "code",
      "source": [
        "# Задание 1. Свойства.\n",
        "# Напиши класс Кот со свойствами: имя кота, возраст, вес, порода.\n",
        "# Сделай свойства \"вес\" и \"порода\" необязательными.\n",
        "# Создай объект кота, заполнив все свойства, выведи строчку вида \"Кота зовут Вася, ему 6 лет.\"\n",
        "#\n",
        "# * Будет плюсом, если используешь тайп-хинтинг (в этом задании и везде)))\n",
        "\n",
        "class Cat:\n",
        "    def __init__(self, name: str, poroda: str, age: int = None, weight: float = None):\n",
        "      self.name = name\n",
        "      self.poroda = poroda\n",
        "      self.age = age\n",
        "      self.weight = weight\n",
        "\n",
        "\n",
        "cat = Cat(\"Барсик\", \"Дворовой\", 5, 5.4)\n",
        "\n",
        "# сюда дописать свойства\n",
        "print(f'Кота зовут {cat.name}, ему {cat.age} лет')\n"
      ],
      "metadata": {
        "id": "h1bHmhTuS7za",
        "colab": {
          "base_uri": "https://localhost:8080/"
        },
        "outputId": "ed2c3ac0-c3c1-4236-bd8c-026ceaaaaff4"
      },
      "execution_count": null,
      "outputs": [
        {
          "output_type": "stream",
          "name": "stdout",
          "text": [
            "Кота зовут Барсик, ему 5 лет\n"
          ]
        }
      ]
    },
    {
      "cell_type": "code",
      "source": [
        "# Задание 1.1. Дата-класс (делать по желанию).\n",
        "# Сделать то же самое, но с помощью дата-класса.\n",
        "from dataclasses import dataclass\n",
        "\n",
        "@dataclass\n",
        "class Cat:\n",
        "    name: str\n",
        "    poroda: str\n",
        "    age: int = None\n",
        "    weight: float = None\n",
        "\n",
        "cat = Cat(\"Барсик\", \"Дворовой\", weight=5.1, age=5)\n",
        "\n",
        "\n",
        "# сюда дописать свойства\n",
        "print(f'Кота зовут {cat.name}, ему {cat.age} лет')"
      ],
      "metadata": {
        "colab": {
          "base_uri": "https://localhost:8080/"
        },
        "id": "UQnm1raDLvc1",
        "outputId": "505b9b20-9545-4b56-e247-e78f6d1f6fa1"
      },
      "execution_count": null,
      "outputs": [
        {
          "output_type": "stream",
          "name": "stdout",
          "text": [
            "Кота зовут Барсик, ему 5 лет\n"
          ]
        }
      ]
    },
    {
      "cell_type": "code",
      "source": [
        "# Задание 2. Методы.\n",
        "# У класса Cat реализуй методы (публичные) для мяуканья и мурчания.\n",
        "class Cat:\n",
        "    def __init__(self, name: str, poroda: str, age: int = None, weight: float = None):\n",
        "      self.name = name\n",
        "      self.poroda = poroda\n",
        "      self.age = age\n",
        "      self.weight = weight\n",
        "\n",
        "    def meyw(self) -> str:\n",
        "      return f\"{self.name} мяукнул\\n\"\n",
        "\n",
        "    def mrr(self) -> str:\n",
        "      return f\"{self.name} мурлычит\\n\"\n",
        "\n",
        "\n",
        "cat = Cat(\"Барсик\", \"Дворовой\", 5, 5.4)\n",
        "\n",
        "# сюда дописать свойства\n",
        "print(cat.meyw(), cat.mrr())\n",
        "\n"
      ],
      "metadata": {
        "colab": {
          "base_uri": "https://localhost:8080/"
        },
        "id": "pPYVNHhZL2by",
        "outputId": "6e110804-7183-4ceb-9af6-1066e28e6016"
      },
      "execution_count": null,
      "outputs": [
        {
          "output_type": "stream",
          "name": "stdout",
          "text": [
            "Барсик мяукнул\n",
            " Барсик мурлычит\n",
            "\n"
          ]
        }
      ]
    },
    {
      "cell_type": "code",
      "source": [
        "# Задание 3. Наследование.\n",
        "# Реализуй базовый класс кота, определив в нём все те же свойства и методы, что\n",
        "# и ранее, кроме породы.\n",
        "#\n",
        "# На его основе создай классы для конкретных пород: курильский бобтейл и\n",
        "# шотландская вислоухая. Учти, что:\n",
        "# - эти породы мяукают по-разному, и не как \"базовые\" коты\n",
        "# - шотландская вислоухая может мяукать по-разному, в зависимости от того,\n",
        "#   хриплый у нее голос или нет.\n",
        "#\n",
        "# Подумай, как лучше реализовать хранение породы в классах, учитывая, что у\n",
        "# объектов одного класса должна всегда быть одинаковая порода.\n",
        "# Подумай, какие свойства или методы можно сделать приватными / защищёнными, и\n",
        "# нужно ли это.\n",
        "#\n",
        "# Создай по одному / несколько котов каждого класса, затем в цикле выведи\n",
        "# данные (см. заготовку).\n",
        "\n",
        "class Cat:\n",
        "    def __init__(self, name: str, age: int = None, weight: float = None):\n",
        "      self.name = name\n",
        "      self.age = age\n",
        "      self.weight = weight\n",
        "    def mrr(self) -> str:\n",
        "      return \"мрр\"\n",
        "    def meyw(self) -> str:\n",
        "      return \"мяу\"\n",
        "\n",
        "class KurilianBobtail(Cat):\n",
        "    def poroda(self) -> str:\n",
        "      return \"Курильский бобтейл\"\n",
        "\n",
        "class ScottishFold(Cat):\n",
        "    def __init__(self, name: str, age: int = None, weight: float = None, hrip: bool = None):\n",
        "      self.name = name\n",
        "      self.age = age\n",
        "      self.weight = weight\n",
        "      self.hrip = hrip\n",
        "    def poroda(self) -> str:\n",
        "      return \"Шотландская вислоухая\"\n",
        "    def meyw(self) -> str:\n",
        "      if self.hrip:\n",
        "        return \"мммауу\"\n",
        "      else:\n",
        "        return \"мяу\"\n",
        "\n",
        "\n",
        "\n",
        "\n",
        "cats = [KurilianBobtail(\"Барсик\", 9, 5.3), ScottishFold(\"Бетсик\", 4, 4.2, True), ScottishFold(\"Том\", 3, 2.2, False)]\n",
        "\n",
        "for cat in cats:\n",
        "    # тут первым вывести мяуканье каждого кота\n",
        "    print(f'{cat.meyw()} Меня зовут {cat.name}, мне {cat.age} лет.')\n",
        "    print(f'Так я мурчу: {cat.mrr()}')\n",
        "    print(f'Моя порода: {cat.poroda()}.')\n",
        "    print('------------------------------------------')\n"
      ],
      "metadata": {
        "colab": {
          "base_uri": "https://localhost:8080/"
        },
        "id": "rohVdpyZMsod",
        "outputId": "f375c7a2-d369-4e60-a0bf-7a26fb3c7897"
      },
      "execution_count": null,
      "outputs": [
        {
          "output_type": "stream",
          "name": "stdout",
          "text": [
            "мяу Меня зовут Барсик, мне 9 лет.\n",
            "Так я мурчу: мрр\n",
            "Моя порода: Курильский бобтейл.\n",
            "------------------------------------------\n",
            "мммауу Меня зовут Бетсик, мне 4 лет.\n",
            "Так я мурчу: мрр\n",
            "Моя порода: Шотландская вислоухая.\n",
            "------------------------------------------\n",
            "мяу Меня зовут Том, мне 3 лет.\n",
            "Так я мурчу: мрр\n",
            "Моя порода: Шотландская вислоухая.\n",
            "------------------------------------------\n"
          ]
        }
      ]
    },
    {
      "cell_type": "code",
      "source": [
        "# Задание 4. Множественное наследование.\n",
        "# Реализуй класс кота - наследника разных пород. Допиши сниппет кода с принтами.\n",
        "# Посмотри, что выведет код, если менять родительские классы местами.\n",
        "# Как это связано с MRO?\n",
        "class ScottishFold:\n",
        "    def __init__(self, name: str, age: int = None, weight: float = None, hrip: bool = None):\n",
        "      self.name = name\n",
        "      self.age = age\n",
        "      self.weight = weight\n",
        "      self.hrip = hrip\n",
        "      self.poroda = \"Шотландская вислоухая\"\n",
        "\n",
        "    def meyw(self) -> str:\n",
        "      if self.hrip:\n",
        "        return \"мммауу\"\n",
        "      else:\n",
        "        return \"мяу\"\n",
        "\n",
        "class KurilianBobtail:\n",
        "    def __init__(self, name: str, age: int = None, weight: float = None):\n",
        "      self.name = name\n",
        "      self.age = age\n",
        "      self.weight = weight\n",
        "      self.poroda = \"Курильский бобтейл\"\n",
        "\n",
        "    def meyw(self) -> str:\n",
        "      return \"meyw\"\n",
        "\n",
        "\n",
        "class Cat(KurilianBobtail, ScottishFold):\n",
        "  def __init__(self, poroda: str, name: str, age: int = None, weight: float = None, hrip: bool = False):\n",
        "    self.poroda = poroda\n",
        "    if poroda == \"Курильский бобтейл\":\n",
        "      self.cat = KurilianBobtail(name, age, weight)\n",
        "    elif poroda == \"Шотландская вислоухая\":\n",
        "      self.cat = ScottishFold(name, age, weight, hrip)\n",
        "    else:\n",
        "      raise ValueError(\"Такой породы нету\")\n",
        "\n",
        "  def meyw(self) -> str:\n",
        "    return self.cat.meyw()\n",
        "  def ishrip(self) -> bool:\n",
        "    if self.poroda == \"Шотландская вислоухая\":\n",
        "      if self.cat.hrip: return True\n",
        "    else: False\n",
        "\n",
        "#cat = Cat(\"Курильский бобтейл\", \"Барсик\", 10, 4.5)\n",
        "cat = Cat(\"Шотландская вислоухая\", \"Барсик\", 10, 4.5, True)\n",
        "print(cat.poroda)  # порода кота\n",
        "print(cat.meyw())  # мяуканье кота\n",
        "print(cat.ishrip())  # хриплый ли у кота голос\n",
        "print(Cat.__mro__)  # MRO твоего класса\n"
      ],
      "metadata": {
        "colab": {
          "base_uri": "https://localhost:8080/"
        },
        "id": "qMBOLDrYQdT8",
        "outputId": "1fd4abf7-a909-4326-ac06-5f6f12d32581"
      },
      "execution_count": null,
      "outputs": [
        {
          "output_type": "stream",
          "name": "stdout",
          "text": [
            "Шотландская вислоухая\n",
            "мммауу\n",
            "True\n",
            "(<class '__main__.Cat'>, <class '__main__.KurilianBobtail'>, <class '__main__.ScottishFold'>, <class 'object'>)\n"
          ]
        }
      ]
    }
  ]
}