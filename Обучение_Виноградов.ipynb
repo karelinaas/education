{
  "nbformat": 4,
  "nbformat_minor": 0,
  "metadata": {
    "colab": {
      "provenance": []
    },
    "kernelspec": {
      "name": "python3",
      "display_name": "Python 3"
    },
    "language_info": {
      "name": "python"
    }
  },
  "cells": [
    {
      "cell_type": "markdown",
      "source": [
        "# Задачки по ООП"
      ],
      "metadata": {
        "id": "rd0lakCcRL28"
      }
    },
    {
      "cell_type": "code",
      "execution_count": null,
      "metadata": {
        "id": "XrbINSTpRFic"
      },
      "outputs": [],
      "source": [
        "\n",
        "class Guy:\n",
        "    def __init__(self, name=None, age=None, salary=None):\n",
        "        self.name = name\n",
        "        self.age = age\n",
        "        self.salary = salary\n",
        "\n",
        "    def __len__(self):\n",
        "        return str(self.salary).count('0')\n",
        "\n",
        "    def __str__(self):\n",
        "        return f\"Name: {self.name}\\nAge: {self.age}\\nSalary: {self.salary}\"\n",
        "\n",
        "    def __setattr__(self, name, value):\n",
        "        if name == \"salary\":\n",
        "            super().__setattr__(name, str(value) + \" $\")\n",
        "        else:\n",
        "            super().__setattr__(name, value)"
      ]
    },
    {
      "cell_type": "code",
      "source": [
        "Mr1 = Guy(\"Andrey\", 20, 1000)\n",
        "Mr2 = Guy()\n",
        "#неправильный вариант, так не делать\n",
        "Mr2.__setattr__(\"salary\", 1000)\n",
        "Mr2.__setattr__(\"name\", \"Misha\")\n",
        "Mr2.__setattr__(\"age\", 19)\n",
        "Mr2.__setattr__(\"age\", 21)\n"
      ],
      "metadata": {
        "id": "cGqlZ523Rwq4"
      },
      "execution_count": null,
      "outputs": []
    },
    {
      "cell_type": "code",
      "source": [
        "print(Mr1)\n",
        "print(Mr2)\n",
        "\n",
        "print(Mr1.__len__())"
      ],
      "metadata": {
        "colab": {
          "base_uri": "https://localhost:8080/"
        },
        "id": "fnocGBvuSU6Z",
        "outputId": "15369205-45d3-4c47-f4b9-b3bd07975b10"
      },
      "execution_count": null,
      "outputs": [
        {
          "output_type": "stream",
          "name": "stdout",
          "text": [
            "Name: Andrey\n",
            "Age: 20\n",
            "Salary: 1000 $\n",
            "Name: Misha\n",
            "Age: 21\n",
            "Salary: 1000 $\n",
            "У него зарплата с 3 нулями\n",
            "\n"
          ]
        }
      ]
    },
    {
      "cell_type": "code",
      "source": [
        "Mr3 = Guy()\n",
        "Mr3.salary = 1000\n",
        "\n",
        "print(Mr3)\n",
        "len(Mr3)"
      ],
      "metadata": {
        "colab": {
          "base_uri": "https://localhost:8080/"
        },
        "id": "CQ7CDkSWmhGb",
        "outputId": "80eac39d-d92d-4b40-ac95-90fcabea1d37"
      },
      "execution_count": null,
      "outputs": [
        {
          "output_type": "stream",
          "name": "stdout",
          "text": [
            "Name: None\n",
            "Age: None\n",
            "Salary: 1000 $\n"
          ]
        },
        {
          "output_type": "execute_result",
          "data": {
            "text/plain": [
              "3"
            ]
          },
          "metadata": {},
          "execution_count": 25
        }
      ]
    },
    {
      "cell_type": "markdown",
      "source": [
        "## Тест окончен, дальше задачки по ООП"
      ],
      "metadata": {
        "id": "MD_BEQL0S4BW"
      }
    },
    {
      "cell_type": "code",
      "source": [
        "# Задание 1. Свойства.\n",
        "# Напиши класс Кот со свойствами: имя кота, возраст, вес, порода.\n",
        "# Сделай свойства \"вес\" и \"порода\" необязательными.\n",
        "# Создай объект кота, заполнив все свойства, выведи строчку вида \"Кота зовут Вася, ему 6 лет.\"\n",
        "#\n",
        "# * Будет плюсом, если используешь тайп-хинтинг (в этом задании и везде)))\n",
        "\n",
        "class Cat:\n",
        "    def __init__(self, name: str, poroda: str, age: int = None, weight: float = None):\n",
        "      self.name = name\n",
        "      self.poroda = poroda\n",
        "      self.age = age\n",
        "      self.weight = weight\n",
        "\n",
        "\n",
        "cat = Cat(\"Барсик\", \"Дворовой\", 5, 5.4)\n",
        "\n",
        "# сюда дописать свойства\n",
        "print(f'Кота зовут {cat.name}, ему {cat.age} лет')\n"
      ],
      "metadata": {
        "id": "h1bHmhTuS7za",
        "colab": {
          "base_uri": "https://localhost:8080/"
        },
        "outputId": "ed2c3ac0-c3c1-4236-bd8c-026ceaaaaff4"
      },
      "execution_count": null,
      "outputs": [
        {
          "output_type": "stream",
          "name": "stdout",
          "text": [
            "Кота зовут Барсик, ему 5 лет\n"
          ]
        }
      ]
    },
    {
      "cell_type": "code",
      "source": [
        "# Задание 1.1. Дата-класс (делать по желанию).\n",
        "# Сделать то же самое, но с помощью дата-класса.\n",
        "from dataclasses import dataclass\n",
        "\n",
        "@dataclass\n",
        "class Cat:\n",
        "    name: str\n",
        "    poroda: str\n",
        "    age: int = None\n",
        "    weight: float = None\n",
        "\n",
        "cat = Cat(\"Барсик\", \"Дворовой\", weight=5.1, age=5)\n",
        "\n",
        "\n",
        "# сюда дописать свойства\n",
        "print(f'Кота зовут {cat.name}, ему {cat.age} лет')"
      ],
      "metadata": {
        "colab": {
          "base_uri": "https://localhost:8080/"
        },
        "id": "UQnm1raDLvc1",
        "outputId": "505b9b20-9545-4b56-e247-e78f6d1f6fa1"
      },
      "execution_count": null,
      "outputs": [
        {
          "output_type": "stream",
          "name": "stdout",
          "text": [
            "Кота зовут Барсик, ему 5 лет\n"
          ]
        }
      ]
    },
    {
      "cell_type": "code",
      "source": [
        "# Задание 2. Методы.\n",
        "# У класса Cat реализуй методы (публичные) для мяуканья и мурчания.\n",
        "class Cat:\n",
        "    def __init__(self, name: str, poroda: str, age: int = None, weight: float = None):\n",
        "      self.name = name\n",
        "      self.poroda = poroda\n",
        "      self.age = age\n",
        "      self.weight = weight\n",
        "\n",
        "    def meyw(self) -> str:\n",
        "      return f\"{self.name} мяукнул\\n\"\n",
        "\n",
        "    def mrr(self) -> str:\n",
        "      return f\"{self.name} мурлычит\\n\"\n",
        "\n",
        "\n",
        "cat = Cat(\"Барсик\", \"Дворовой\", 5, 5.4)\n",
        "\n",
        "# сюда дописать свойства\n",
        "print(cat.meyw(), cat.mrr())\n",
        "\n"
      ],
      "metadata": {
        "colab": {
          "base_uri": "https://localhost:8080/"
        },
        "id": "pPYVNHhZL2by",
        "outputId": "6e110804-7183-4ceb-9af6-1066e28e6016"
      },
      "execution_count": null,
      "outputs": [
        {
          "output_type": "stream",
          "name": "stdout",
          "text": [
            "Барсик мяукнул\n",
            " Барсик мурлычит\n",
            "\n"
          ]
        }
      ]
    },
    {
      "cell_type": "code",
      "source": [
        "# Задание 3. Наследование.\n",
        "# Реализуй базовый класс кота, определив в нём все те же свойства и методы, что\n",
        "# и ранее, кроме породы.\n",
        "#\n",
        "# На его основе создай классы для конкретных пород: курильский бобтейл и\n",
        "# шотландская вислоухая. Учти, что:\n",
        "# - эти породы мяукают по-разному, и не как \"базовые\" коты\n",
        "# - шотландская вислоухая может мяукать по-разному, в зависимости от того,\n",
        "#   хриплый у нее голос или нет.\n",
        "#\n",
        "# Подумай, как лучше реализовать хранение породы в классах, учитывая, что у\n",
        "# объектов одного класса должна всегда быть одинаковая порода.\n",
        "# Подумай, какие свойства или методы можно сделать приватными / защищёнными, и\n",
        "# нужно ли это.\n",
        "#\n",
        "# Создай по одному / несколько котов каждого класса, затем в цикле выведи\n",
        "# данные (см. заготовку).\n",
        "\n",
        "class Cat:\n",
        "    def __init__(self, name: str, age: int = None, weight: float = None):\n",
        "      self.name = name\n",
        "      self.age = age\n",
        "      self.weight = weight\n",
        "    def mrr(self) -> str:\n",
        "      return \"мрр\"\n",
        "    def meyw(self) -> str:\n",
        "      return \"мяу\"\n",
        "\n",
        "class KurilianBobtail(Cat):\n",
        "    def poroda(self) -> str:\n",
        "      return \"Курильский бобтейл\"\n",
        "\n",
        "class ScottishFold(Cat):\n",
        "    def __init__(self, name: str, age: int = None, weight: float = None, hrip: bool = None):\n",
        "      self.name = name\n",
        "      self.age = age\n",
        "      self.weight = weight\n",
        "      self.hrip = hrip\n",
        "    def poroda(self) -> str:\n",
        "      return \"Шотландская вислоухая\"\n",
        "    def meyw(self) -> str:\n",
        "      if self.hrip:\n",
        "        return \"мммауу\"\n",
        "      else:\n",
        "        return \"мяу\"\n",
        "\n",
        "\n",
        "\n",
        "\n",
        "cats = [KurilianBobtail(\"Барсик\", 9, 5.3), ScottishFold(\"Бетсик\", 4, 4.2, True), ScottishFold(\"Том\", 3, 2.2, False)]\n",
        "\n",
        "for cat in cats:\n",
        "    # тут первым вывести мяуканье каждого кота\n",
        "    print(f'{cat.meyw()} Меня зовут {cat.name}, мне {cat.age} лет.')\n",
        "    print(f'Так я мурчу: {cat.mrr()}')\n",
        "    print(f'Моя порода: {cat.poroda()}.')\n",
        "    print('------------------------------------------')\n"
      ],
      "metadata": {
        "colab": {
          "base_uri": "https://localhost:8080/"
        },
        "id": "rohVdpyZMsod",
        "outputId": "f375c7a2-d369-4e60-a0bf-7a26fb3c7897"
      },
      "execution_count": null,
      "outputs": [
        {
          "output_type": "stream",
          "name": "stdout",
          "text": [
            "мяу Меня зовут Барсик, мне 9 лет.\n",
            "Так я мурчу: мрр\n",
            "Моя порода: Курильский бобтейл.\n",
            "------------------------------------------\n",
            "мммауу Меня зовут Бетсик, мне 4 лет.\n",
            "Так я мурчу: мрр\n",
            "Моя порода: Шотландская вислоухая.\n",
            "------------------------------------------\n",
            "мяу Меня зовут Том, мне 3 лет.\n",
            "Так я мурчу: мрр\n",
            "Моя порода: Шотландская вислоухая.\n",
            "------------------------------------------\n"
          ]
        }
      ]
    },
    {
      "cell_type": "code",
      "source": [
        "# Задание 4. Множественное наследование.\n",
        "# Реализуй класс кота - наследника разных пород. Допиши сниппет кода с принтами.\n",
        "# Посмотри, что выведет код, если менять родительские классы местами.\n",
        "# Как это связано с MRO?\n",
        "class ScottishFold:\n",
        "    def __init__(self, name: str, age: int = None, weight: float = None, hrip: bool = None):\n",
        "      self.name = name\n",
        "      self.age = age\n",
        "      self.weight = weight\n",
        "      self.hrip = hrip\n",
        "      self.poroda = \"Шотландская вислоухая\"\n",
        "\n",
        "    def meyw(self) -> str:\n",
        "      if self.hrip:\n",
        "        return \"мммауу\"\n",
        "      else:\n",
        "        return \"мяу\"\n",
        "\n",
        "class KurilianBobtail:\n",
        "    def __init__(self, name: str, age: int = None, weight: float = None):\n",
        "      self.name = name\n",
        "      self.age = age\n",
        "      self.weight = weight\n",
        "      self.poroda = \"Курильский бобтейл\"\n",
        "\n",
        "    def meyw(self) -> str:\n",
        "      return \"meyw\"\n",
        "\n",
        "\n",
        "class Cat(KurilianBobtail, ScottishFold):\n",
        "  def __init__(self, poroda: str, name: str, age: int = None, weight: float = None, hrip: bool = False):\n",
        "    self.poroda = poroda\n",
        "    if poroda == \"Курильский бобтейл\":\n",
        "      self.cat = KurilianBobtail(name, age, weight)\n",
        "    elif poroda == \"Шотландская вислоухая\":\n",
        "      self.cat = ScottishFold(name, age, weight, hrip)\n",
        "    else:\n",
        "      raise ValueError(\"Такой породы нету\")\n",
        "\n",
        "  def meyw(self) -> str:\n",
        "    return self.cat.meyw()\n",
        "  def ishrip(self) -> bool:\n",
        "    if self.poroda == \"Шотландская вислоухая\":\n",
        "      if self.cat.hrip: return True\n",
        "    else: False\n",
        "\n",
        "#cat = Cat(\"Курильский бобтейл\", \"Барсик\", 10, 4.5)\n",
        "cat = Cat(\"Шотландская вислоухая\", \"Барсик\", 10, 4.5, True)\n",
        "print(cat.poroda)  # порода кота\n",
        "print(cat.meyw())  # мяуканье кота\n",
        "print(cat.ishrip())  # хриплый ли у кота голос\n",
        "print(Cat.__mro__)  # MRO твоего класса\n"
      ],
      "metadata": {
        "colab": {
          "base_uri": "https://localhost:8080/"
        },
        "id": "qMBOLDrYQdT8",
        "outputId": "1fd4abf7-a909-4326-ac06-5f6f12d32581"
      },
      "execution_count": null,
      "outputs": [
        {
          "output_type": "stream",
          "name": "stdout",
          "text": [
            "Шотландская вислоухая\n",
            "мммауу\n",
            "True\n",
            "(<class '__main__.Cat'>, <class '__main__.KurilianBobtail'>, <class '__main__.ScottishFold'>, <class 'object'>)\n"
          ]
        }
      ]
    },
    {
      "cell_type": "code",
      "source": [
        "\n",
        "\n",
        "# Задание 5. Инкапсуляция и модификаторы доступа.\n",
        "# Напиши класс кота с необязательным именем, которое нельзя задать напрямую.\n",
        "# В данном задании НЕ используй магические методы.\n",
        "# Можно обойтись одним свойством -- имя, методы реализовывать не нужно.\n",
        "#\n",
        "# Если у конкретного кота уже задано имя, и ему пытаются задать новое, выведи\n",
        "# ошибку 'Себе новое имя придумай!!!!!!! (=ಠᆽಠ=)'\n",
        "# При успешном задании имени пусть выводится f'О, спасибо, теперь я {name}!'\n",
        "\n",
        "class Cat:\n",
        "    # Подсказка: тебе пригодятся декораторы\n",
        "    # \"@property\"\n",
        "    # \"@...setter\"\n",
        "    def __init__(self, name: str | None = None):\n",
        "        self.__name = name\n",
        "\n",
        "    @property\n",
        "    def name(self):\n",
        "        return self.__name\n",
        "\n",
        "    @name.setter\n",
        "    def name(self, value):\n",
        "        if self.__name is not None:\n",
        "            raise(ValueError(\"Себе новое имя придумай!!!!!!! (=ಠᆽಠ=)\"))\n",
        "        else:\n",
        "            self.__name = value\n",
        "            print(f\"О, спасибо, теперь я {self.__name}!\")\n",
        "\n",
        "\n",
        "#cat_1 = Cat('Бегемот')\n",
        "#cat_1.name = 'Бафомет'\n",
        "#print(cat_1.name)  # ошибка\n",
        "print()\n",
        "cat_2 = Cat()\n",
        "cat_2.name = 'Лютик'\n",
        "print(cat_2.name)  # успешно\n"
      ],
      "metadata": {
        "id": "MZoXHk4_7otv"
      },
      "execution_count": null,
      "outputs": []
    },
    {
      "cell_type": "code",
      "source": [
        "# Задание 6. Модификаторы доступа.\n",
        "# Реализуй класс любой породы кота на основе базового класса из задания 3.\n",
        "# Пусть кот этой породы может мяукать по-разному, в зависимости от того, хриплый\n",
        "# у нее голос или нет, голоден он или нет.\n",
        "#\n",
        "# Переопредели метод мяуканья таким образом, чтобы:\n",
        "# - если кот голоден, он издаёт особое \"голодное\" мяу\n",
        "# - голоден кот или нет -- определяется случайным образом\n",
        "# - кот не может просто выдать голодное мяу специально, оно будет вызвано само\n",
        "#   только если он правда голоден\n",
        "# - если кот не голоден, он издает хриплое или не хриплое мяу\n",
        "\n",
        "import random  # подсказка)))\n",
        "\n",
        "\n",
        "\n",
        "\n",
        "class Cat:\n",
        "\n",
        "    def __init__(self, name: str, age: int = None, weight: float = None):\n",
        "      self.name = name\n",
        "      self.age = age\n",
        "      self.weight = weight\n",
        "\n",
        "    def mrr(self) -> str:\n",
        "      return \"мрр\"\n",
        "\n",
        "    def meyw(self) -> str:\n",
        "      return \"мяу\"\n",
        "\n",
        "\n",
        "class ScottishFold(Cat):\n",
        "    BREED = 'Шотландская вислоухая'\n",
        "    horse_voice: bool\n",
        "\n",
        "    def __init__(self, name: str, age: int | None = None, weight: float | None = None, **kwargs,):\n",
        "        super().__init__(name, age, weight)\n",
        "        self.horse_voice = kwargs.get('horse_voice', False)\n",
        "        self.hungry = kwargs.get('hungry', False)\n",
        "\n",
        "    def meyw(self) -> str:\n",
        "        if self.hungry:\n",
        "            return \"мяу (есть охота)\"\n",
        "        else:\n",
        "            if self.horse_voice:\n",
        "                return \"мммяуу\"\n",
        "            else:\n",
        "                return \"мау\"\n",
        "\n",
        "\n",
        "\n",
        "\n",
        "cats = [ScottishFold(\"Бетсик\", 4, 4.2, horse_voice=True, hungry = random.choice([True, False])),\n",
        "        ScottishFold(\"Том\", 3, 2.2, horse_voice=False, hungry = random.choice([True, False])),\n",
        "        ScottishFold(\"Барсик\", 3, 2.2, horse_voice=False, hungry = random.choice([True, False]))]\n",
        "\n",
        "for cat in cats:\n",
        "    # тут первым вывести мяуканье каждого кота\n",
        "    print(f'{cat.meyw()} Меня зовут {cat.name}, мне {cat.age} лет.')\n",
        "    print(f'Так я мурчу: {cat.mrr()}')\n",
        "    print(f'Моя порода: {cat.meyw()}.')\n",
        "    print('------------------------------------------')\n"
      ],
      "metadata": {
        "colab": {
          "base_uri": "https://localhost:8080/"
        },
        "id": "PgfFt0O0GwY7",
        "outputId": "34bd5117-f3b0-4b26-fffc-589ef77bed3f"
      },
      "execution_count": null,
      "outputs": [
        {
          "output_type": "stream",
          "name": "stdout",
          "text": [
            "мяу (есть охота) Меня зовут Бетсик, мне 4 лет.\n",
            "Так я мурчу: мрр\n",
            "Моя порода: мяу (есть охота).\n",
            "------------------------------------------\n",
            "мау Меня зовут Том, мне 3 лет.\n",
            "Так я мурчу: мрр\n",
            "Моя порода: мау.\n",
            "------------------------------------------\n",
            "мау Меня зовут Барсик, мне 3 лет.\n",
            "Так я мурчу: мрр\n",
            "Моя порода: мау.\n",
            "------------------------------------------\n"
          ]
        }
      ]
    },
    {
      "cell_type": "markdown",
      "source": [
        "Изучая полиморфизм, я увидел интересный метод - интерфейс (абстрактный метод, модуль abc). Тут я не смог придумать, как его реализовать, может подскажите как."
      ],
      "metadata": {
        "id": "NuLc8yZxdmTd"
      }
    },
    {
      "cell_type": "code",
      "source": [
        "# Задание 7. Полиморфизм\n",
        "# Возьми все свои классы пород. Подумай, как использовать их в этом коде, чтобы\n",
        "# не было ошибок и зависимостей от конкретного класса.\n",
        "#Взял из 4 задания 2 породы\n",
        "class ScottishFold:\n",
        "\n",
        "    def __init__(self, name: str, age: int | None = None, weight: float | int | None = None, horse_voice: bool | None = None):\n",
        "        self.name = name\n",
        "        self.age = age\n",
        "        self.weight = weight\n",
        "        self.horse_voice = horse_voice\n",
        "        self.Breed = \"Шотландская вислоухая\"\n",
        "\n",
        "    def meyw(self) -> str:\n",
        "        if self.horse_voice:\n",
        "            return \"мммауу\"\n",
        "        else:\n",
        "            return \"мяу\"\n",
        "\n",
        "    def purr(self) -> str:\n",
        "        return \"purr\"\n",
        "\n",
        "class KurilianBobtail:\n",
        "\n",
        "    def __init__(self, name: str, age: int | None = None, weight: float | int | None = None):\n",
        "        self.name = name\n",
        "        self.age = age\n",
        "        self.weight = weight\n",
        "        self.Breed = \"Курильский бобтейл\"\n",
        "\n",
        "    def meyw(self) -> str:\n",
        "        return \"meyw\"\n",
        "\n",
        "    def purr(self) -> str:\n",
        "        return \"purr\"\n",
        "\n",
        "\n",
        "def cat_info(cat: KurilianBobtail | ScottishFold) -> str:\n",
        "    print(cat.name)\n",
        "    print(cat.age)\n",
        "    print(cat.Breed)\n",
        "    print(cat.meyw())\n",
        "    print(cat.purr())\n",
        "    print()\n",
        "\n",
        "cats = [ScottishFold(\"Бетсик\", 4, 4.2, horse_voice=True),\n",
        "        KurilianBobtail(\"Том\", 3, 2.2),\n",
        "        ScottishFold(\"Барсик\", 3, 2.2, horse_voice=False)]\n",
        "\n",
        "for cat in cats:\n",
        "    cat_info(cat)\n"
      ],
      "metadata": {
        "colab": {
          "base_uri": "https://localhost:8080/"
        },
        "id": "yqDjz-huc1WQ",
        "outputId": "356dc88a-0f2f-4349-a65e-47400f83d75d"
      },
      "execution_count": null,
      "outputs": [
        {
          "output_type": "stream",
          "name": "stdout",
          "text": [
            "Бетсик\n",
            "4\n",
            "Шотландская вислоухая\n",
            "мммауу\n",
            "purr\n",
            "\n",
            "Том\n",
            "3\n",
            "Курильский бобтейл\n",
            "meyw\n",
            "purr\n",
            "\n",
            "Барсик\n",
            "3\n",
            "Шотландская вислоухая\n",
            "мяу\n",
            "purr\n",
            "\n"
          ]
        }
      ]
    },
    {
      "cell_type": "markdown",
      "source": [
        "@classmethod имеет возможность работать с классом, не задавая объекта, компилятор питона сам добавляет cls (ссылка на класс), позволяя работать с переменными класса (допустим мы определили переменную класса test_var) и с ней мы можем при помощи этого метода напрямую взаимодействовать.\n",
        "\n",
        "@staticmethod это вспомогательная функция, которая не может взаимодействовать на прямую с данными объекта (self не может), а вот если передать, то какие-то данные  можно получить"
      ],
      "metadata": {
        "id": "agoi8NLPrlVC"
      }
    },
    {
      "cell_type": "code",
      "source": [
        "# Задание 8. Декораторы @staticmethod и @classmethod\n",
        "# Реализуй класс с методом help(), который можно вызвать не создавая объект\n",
        "# класса. Пусть он Пусть он выводит\n",
        "# справочную информацию:\n",
        "#\n",
        "# \"\"\"\n",
        "# Класс-котик.\n",
        "# При создании объекта передайте первым значением имя котика (обязательно),\n",
        "# вторым - возраст котика (обязательно).\n",
        "# Также можно ввести вес (третий параметр, дробное или целое число)\n",
        "# и породу (четвертый параметр).\n",
        "# \"\"\"\n",
        "#\n",
        "# Также пусть в этом классе будет метод alt_init, относящийся к самому классу,\n",
        "# а не к объекту. Пусть в нём задаётся свойство test_var.\n",
        "#\n",
        "# Сравни, что выведет код в двух случаях. В чём ключевое отличие методов?\n",
        "\n",
        "class Cat:\n",
        "    test_var: int = 1\n",
        "\n",
        "    def __init__(self, name : str, age : int, weight: float | int | None = None, BREED: str | None = None):\n",
        "        self.name = name\n",
        "        self.age = age\n",
        "        self.weight = weight\n",
        "        self.Breed = BREED\n",
        "\n",
        "\n",
        "\n",
        "    @staticmethod\n",
        "    def help() -> str:\n",
        "        print(\"Класс-котик. \\n\"\n",
        "              \"При создании объекта передайте первым значением имя котика (обязательно),\\n\"\n",
        "              \"вторым - возраст котика (обязательно).\"\n",
        "              \"\\nТакже можно ввести вес (третий параметр, дробное или целое число) \\n\"\n",
        "              \"и породу (четвертый параметр).\")\n",
        "\n",
        "    @classmethod\n",
        "    def alt_init(cls, new_var) -> str:\n",
        "        cls.test_var = new_var\n",
        "        print(f\"Задано новое значение: {cls.test_var}\")\n",
        "Cat.help()\n",
        "\n",
        "test_cat = Cat('Саша', 2)\n",
        "print(test_cat.test_var)\n",
        "test_cat.test_var = 4\n",
        "print(test_cat.test_var)\n",
        "\n",
        "print('----------------------------')\n",
        "\n",
        "Cat.alt_init(10)\n",
        "test_cat2 = Cat('Митя', 2)\n",
        "print(test_cat2.test_var)\n"
      ],
      "metadata": {
        "colab": {
          "base_uri": "https://localhost:8080/"
        },
        "id": "ret_oVnKd6tJ",
        "outputId": "b07e17ca-5b3d-459a-d87c-1927a47f5734"
      },
      "execution_count": null,
      "outputs": [
        {
          "output_type": "stream",
          "name": "stdout",
          "text": [
            "Класс-котик. \n",
            "При создании объекта передайте первым значением имя котика (обязательно),\n",
            "вторым - возраст котика (обязательно).\n",
            "Также можно ввести вес (третий параметр, дробное или целое число) \n",
            "и породу (четвертый параметр).\n",
            "1\n",
            "4\n",
            "----------------------------\n",
            "Задано новое значение: 10\n",
            "10\n"
          ]
        }
      ]
    },
    {
      "cell_type": "code",
      "source": [
        "import typing\n",
        "\n",
        "\n",
        "# Задание 9. Магические методы\n",
        "# Реализуй в этом классе такие магические методы, чтобы сниппет кода в конце\n",
        "# работал без ошибок и делал то, что написано в комментариях.\n",
        "\n",
        "class BaseCat:\n",
        "    name: str\n",
        "    age: int\n",
        "    weight: typing.Optional[float]\n",
        "    length: int\n",
        "\n",
        "    BREED = 'кот домашний'\n",
        "\n",
        "    def __init__(\n",
        "        self,\n",
        "        name: str,\n",
        "        age: int,\n",
        "        weight: typing.Optional[float] = None,\n",
        "    ):\n",
        "        self.name = name\n",
        "        self.age = age\n",
        "        self.weight = weight\n",
        "\n",
        "    def __len__(self) -> int:\n",
        "        return self.length\n",
        "\n",
        "    def __call__(self):\n",
        "        print(\"Ты чего делаешь? Я котик, а не функция!\")\n",
        "\n",
        "    def __add__(self, other: int):\n",
        "        self.weight = self.length + other\n",
        "        return self\n",
        "\n",
        "    def __str__(self):\n",
        "        return f\"Это кот домашний по имени {self.name}\"\n",
        "\n",
        "    def meow(self) -> str:\n",
        "        return 'Мяу!'\n",
        "\n",
        "    def purr(self) -> str:\n",
        "        return 'Мррррррр...'\n",
        "\n",
        "\n",
        "cat = BaseCat('Уголёк', 2, 4.1)\n",
        "cat.length = 70\n",
        "print(cat) # должно вывести 'Это кот домашний по имени Уголёк.'\n",
        "print(len(cat))  # должно вывести '70'\n",
        "cat()  # должно вывести 'Ты чего делаешь? Я котик, а не функция!'\n",
        "cat = cat + 2\n",
        "print(cat.weight)  # должно вывести '72'"
      ],
      "metadata": {
        "colab": {
          "base_uri": "https://localhost:8080/"
        },
        "id": "bUDSeRkAvXsL",
        "outputId": "26b8391f-908f-4d09-8026-f8a0c5749d81"
      },
      "execution_count": null,
      "outputs": [
        {
          "output_type": "stream",
          "name": "stdout",
          "text": [
            "Это кот домашний по имени Уголёк\n",
            "70\n",
            "Ты чего делаешь? Я котик, а не функция!\n",
            "72\n"
          ]
        }
      ]
    },
    {
      "cell_type": "markdown",
      "source": [
        "Да, когда я знакомился с ООП, как раз это было, что все типы у нас наследуются от объекта и этим можно даже немного играть"
      ],
      "metadata": {
        "id": "crTGSjs1vk4a"
      }
    },
    {
      "cell_type": "code",
      "source": [
        "# Задание 9. Это всё объекты!\n",
        "# Просто запусти этот код, иллюстрирующий, что в Python переменная любого типа\n",
        "# является объектом, а сам тип - объектом первого класса. Объекты первого класса\n",
        "#  - это такие элементы языка, которые можно передавать как параметры в функцию,\n",
        "# вернуть в качестве результата выполнения фукнции, или присвоить переменной.\n",
        "# Проще говоря, в python можно манипулировать типами точно так же, как и\n",
        "# числами, строками или другими объектами.\n",
        "#\n",
        "# Думаю, тебе легко это будет понять по аналогии с языком С))\n",
        "\n",
        "import typing\n",
        "\n",
        "str_ = 'SoMeThIng'\n",
        "print(str_.lower())\n",
        "\n",
        "list_ = [1, 2, 3]\n",
        "print(list_)\n",
        "print(list_.__str__())\n",
        "isinstance(list_, typing.Sized)"
      ],
      "metadata": {
        "colab": {
          "base_uri": "https://localhost:8080/"
        },
        "id": "5gPHb9vsvffd",
        "outputId": "f4a371a7-9884-4a38-eae4-09683c736bfb"
      },
      "execution_count": null,
      "outputs": [
        {
          "output_type": "stream",
          "name": "stdout",
          "text": [
            "something\n",
            "[1, 2, 3]\n",
            "[1, 2, 3]\n"
          ]
        },
        {
          "output_type": "execute_result",
          "data": {
            "text/plain": [
              "True"
            ]
          },
          "metadata": {},
          "execution_count": 6
        }
      ]
    },
    {
      "cell_type": "code",
      "source": [],
      "metadata": {
        "id": "f5aNzTgovvsK"
      },
      "execution_count": null,
      "outputs": []
    }
  ]
}